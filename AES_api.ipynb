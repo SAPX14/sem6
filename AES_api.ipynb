{
 "cells": [
  {
   "cell_type": "code",
   "execution_count": 1,
   "metadata": {},
   "outputs": [
    {
     "name": "stdout",
     "output_type": "stream",
     "text": [
      "Collecting pyCryptodomex\n",
      "  Downloading pycryptodomex-3.17-cp35-abi3-win_amd64.whl (1.7 MB)\n",
      "     ---------------------------------------- 1.7/1.7 MB 2.8 MB/s eta 0:00:00\n",
      "Installing collected packages: pyCryptodomex\n",
      "Successfully installed pyCryptodomex-3.17\n",
      "Note: you may need to restart the kernel to use updated packages.\n"
     ]
    },
    {
     "name": "stderr",
     "output_type": "stream",
     "text": [
      "\n",
      "[notice] A new release of pip available: 22.3.1 -> 23.1.2\n",
      "[notice] To update, run: python.exe -m pip install --upgrade pip\n"
     ]
    },
    {
     "name": "stdout",
     "output_type": "stream",
     "text": [
      "The message is authentic: b'Hello World'\n"
     ]
    }
   ],
   "source": [
    "%pip install pyCryptodomex\n",
    "from Cryptodome.Cipher import AES\n",
    "key = b'Sixteen byte key'\n",
    "cipher = AES.new(key, AES.MODE_EAX)\n",
    "data = 'Hello World'.encode(\"utf8\")\n",
    "nonce = cipher.nonce\n",
    "ciphertext, tag = cipher.encrypt_and_digest(data)\n",
    "ciphertext\n",
    "key = b'Sixteen byte key'\n",
    "cipher = AES.new(key, AES.MODE_EAX, nonce=nonce)\n",
    "plaintext = cipher.decrypt(ciphertext)\n",
    "try:\n",
    "    cipher.verify(tag)\n",
    "    print(\"The message is authentic:\", plaintext)\n",
    "except ValueError:\n",
    "    print(\"Key incorrect or message corrupted\")"
   ]
  }
 ],
 "metadata": {
  "kernelspec": {
   "display_name": "Python 3",
   "language": "python",
   "name": "python3"
  },
  "language_info": {
   "codemirror_mode": {
    "name": "ipython",
    "version": 3
   },
   "file_extension": ".py",
   "mimetype": "text/x-python",
   "name": "python",
   "nbconvert_exporter": "python",
   "pygments_lexer": "ipython3",
   "version": "3.11.1"
  },
  "orig_nbformat": 4
 },
 "nbformat": 4,
 "nbformat_minor": 2
}
